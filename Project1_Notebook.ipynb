{
 "cells": [
  {
   "cell_type": "markdown",
   "id": "25e94d20",
   "metadata": {},
   "source": [
    "# MATH2504 - Project 1, 2023\n",
    "## Matthew Lynch (ID: 47426557)\n",
    "### GitHub Repository: https://github.com/lynchmatt/Matthew-Lynch-2504-2023-PROJECT1.git"
   ]
  },
  {
   "cell_type": "markdown",
   "id": "83cba7d8",
   "metadata": {},
   "source": [
    "## Intro\n",
    "This notebook organises the written responses and documentation of changes for Tasks 1-6 of Project 1, as well as the perspective seminar write-up. Each task includes a description of the changes made, the relevant code changed, and functionality tests where relevant.\n",
    "\n",
    "General organisation:\n",
    "- New types were given a file of their own in the same location as the original in the src folder (Term128, PolynomialSparse, PolynomialSparse128, PolynomialModP, PolynomialModP128). \n",
    "- Modifications to the addition, multiplication, etc methods for each type were included in the original files within the folder basic_polynomial_operations.jl, and clearly labelled with comments.\n",
    "- Factorisation methods for the different Polynomial types were kept with the original factor file in the polynomial_factorization folder. \n",
    "- Everything related to the CRT that wasn't a new struct is kept in the CRT folder.\n",
    "- For Task 6, both the original and repeat-squares methods of finding the powers of polynomials are kept in the polynomial_multiplication file. The CRT version of factoring is kept in the CRT file.\n",
    "\n",
    "Tests\n",
    "- The 'tests' folder contains the existing tests for the integers, and for the four polynomial types (Dense, Sparse, Sparse128 and ModP). \n",
    "- The factorisation tests for each type were kept in the 'factorization_test.jl' file. \n",
    "- The test of runtime comparison between PolynomialSparse and PolynomialSparse128 is kept in the 'timing_test.jl' in the tests folder.\n",
    "- The tests for CRT multiplication are in the CRT_test file in the tests folder."
   ]
  },
  {
   "cell_type": "code",
   "execution_count": 2,
   "id": "7bee66a0",
   "metadata": {},
   "outputs": [],
   "source": [
    "include(\"poly_factorization_project.jl\")\n"
   ]
  },
  {
   "cell_type": "markdown",
   "id": "7add7673",
   "metadata": {},
   "source": [
    "## All Test Output\n",
    "See below the output of the entire runtests.jl file. Each task also has the output of its tests included where relevant."
   ]
  },
  {
   "cell_type": "code",
   "execution_count": 2,
   "id": "3633ac69",
   "metadata": {},
   "outputs": [
    {
     "name": "stderr",
     "output_type": "stream",
     "text": [
      "\u001b[32m\u001b[1m  Activating\u001b[22m\u001b[39m project at `C:\\Users\\1908l\\OneDrive\\MATH2504\\Matthew-Lynch-2504-2023-PROJECT1`"
     ]
    },
    {
     "name": "stdout",
     "output_type": "stream",
     "text": [
      "test_euclid_ints - PASSED"
     ]
    },
    {
     "name": "stderr",
     "output_type": "stream",
     "text": [
      "\n"
     ]
    },
    {
     "name": "stdout",
     "output_type": "stream",
     "text": [
      "\n",
      "test_ext_euclid_ints - PASSED\n",
      "prod_test_polydense - PASSED\n",
      "prod_test_polydense - PASSED\n",
      "prod_derivative_test_polydense - PASSED\n",
      "ext_euclid_test_polydense - PASSED\n",
      "division_test_polydense - PASSED\n",
      "prod_test_polysparse - PASSED\n",
      "prod_derivative_test_polysparse - PASSED\n",
      "division_test_polysparse - PASSED\n",
      "ext_euclid_test_polysparse - PASSED\n",
      "test_excess_zeros - PASSED\n",
      "test_excess_zeros - PASSED\n",
      "prod_test_polysparse128 - PASSED\n",
      "prod_derivative_test_polysparse128 - PASSED\n",
      "division_test_polysparse128 - PASSED\n",
      "ext_euclid_test_polysparse128 - PASSED\n",
      "test_excess_zeros_128 - PASSED\n",
      "test_zero_addition_128 - PASSED\n",
      "OVERFLOW_TEST - PASSED.\n",
      "prod_test_polymodp - PASSED\n",
      "prod_derivative_test_polymodp - PASSED\n",
      "division_test_polymodp - PASSED\n",
      "ext_euclid_test_polymodp - PASSED\n",
      "test_excess_zeros - PASSED\n",
      "test_excess_zeros - PASSED\n",
      "\n",
      "doing prime = 5 \t..........\n",
      "doing prime = 17 \t..........\n",
      "doing prime = 19 \t..........\n",
      "factor_test_polydense - PASSED\n",
      "\n",
      "doing prime = 5 \t..........\n",
      "doing prime = 17 \t..........\n",
      "doing prime = 19 \t..........\n",
      "factor_test_polysparse - PASSED\n",
      "\n",
      "doing prime = 5 \t..........\n",
      "doing prime = 17 \t..........\n",
      "doing prime = 19 \t..........\n",
      "factor_test_polysparse128 - PASSED\n",
      "\n",
      "doing prime = 5 \t..........\n",
      "doing prime = 17 \t..........\n",
      "doing prime = 19 \t..........\n",
      "factor_test_polymodp - PASSED\n",
      "\n",
      "doing prime = 5 \t..........\n",
      "doing prime = 17 \t..........\n",
      "doing prime = 19 \t..........\n",
      "CRT Factorisation Test - PASSED\n"
     ]
    },
    {
     "data": {
      "text/plain": [
       "CRT_time_test (generic function with 1 method)"
      ]
     },
     "execution_count": 2,
     "metadata": {},
     "output_type": "execute_result"
    }
   ],
   "source": [
    "include(\"test\\\\runtests.jl\")"
   ]
  },
  {
   "cell_type": "markdown",
   "id": "b4259cb8",
   "metadata": {},
   "source": [
    "## Task 1: Setup, Example Script 2 and Pretty Printing\n",
    "In this task, I created the GitHub repository for submission (linked at the top of the document), created a second example script called example_script_2, and altered the show methods for the Term and Polynomial structs so the display looked nicer.\n",
    "\n",
    "example_script_2 included the basic functionality shown in the original example_script, and also included further examples of the program's functionality, such as constructing cylotonic and linear polynomials, finding the greatest common denonimator, and division of polynomials over residue classes.\n",
    "\n",
    "See example_script_2's output below:"
   ]
  },
  {
   "cell_type": "code",
   "execution_count": null,
   "id": "85eb5f47",
   "metadata": {},
   "outputs": [],
   "source": [
    "using Pkg\n",
    "Pkg.activate(\".\")\n",
    "\n",
    "include(\"poly_factorization_project.jl\")\n",
    "\n",
    "println(\"First we create a polynomial x, with coefficient 1 and power 1, using x_poly().\")\n",
    "\n",
    "x = x_poly()\n",
    "\n",
    "println(\"This polynomial can then be manipulated to create other polynomials: \")\n",
    "\n",
    "poly1 = 3x^3 + 4x + 2\n",
    "poly2 = x^2 + - 5x + (-8)\n",
    "poly3 = x^2 + (-16)\n",
    "\n",
    "println(poly1)\n",
    "println(poly2)\n",
    "println(poly3)\n",
    "\n",
    "println(\"We can also create specific types of polynomials, like cyclotonic polynomials or linear monic polynomials, using only integer input.\")\n",
    "\n",
    "cyclo = cyclotonic_polynomial(3)\n",
    "monic = linear_monic_polynomial(4)\n",
    "\n",
    "println(\"Cyclotonic: \", cyclo)\n",
    "println(\"Linear monic: \", monic)\n",
    "\n",
    "println(\"We can gain information about polynomials, such as the number of terms, highest degree and evaluate it at a given point x.\")\n",
    "\n",
    "println(\"$poly1 has highest degree $(degree(poly1)), has $(length(poly1)) terms and has a value of $(evaluate(poly1, 2)) at x=2.\")\n",
    "\n",
    "println(\"A polynomial's derivative can be found also: \")\n",
    "\n",
    "println(\"The derivative of $poly2 is $(derivative(poly2))\")\n",
    "\n",
    "println(\"We can also do the operations of addition: \")\n",
    "println(\"$poly1 + $poly2 = $(poly1 + poly2)\")\n",
    "\n",
    "println(\"Multiplication: \")\n",
    "println(\"$poly1 * $poly2 = $(poly1 * poly2)\")\n",
    "\n",
    "println(\"Substraction: \")\n",
    "println(\"$poly1 - $poly2 = $(poly1 - poly2)\")\n",
    "\n",
    "println(\"And division modulo prime, where the output is a tuple of the quotient and the remainder. For example mod 3: \")\n",
    "println(\"($poly3) ÷ ($poly1) mod 3 = $(divide(poly3, poly1)(3))\")\n",
    "\n",
    "println(\"We can also factorise polynomials modulo p, where p is prime. Output is a vector of tuples of polynomials and their multiplicity,\n",
    " such that their product mod p is the input polynomial.  Again using mod 3: \")\n",
    "factorisation = factor(poly1,3)\n",
    "println(\"$poly1 factorised mod 3 = $(factorisation[1])\")\n",
    "println(\"And this factorisation can be reconstructed, with output given mod prime: \")\n",
    "pr = mod(expand_factorization(factorisation),3)\n",
    "println(\"Reconstructing: \", pr)\n",
    "\n",
    "println(\"We can also find the greatest common denominator of two polynomials, mod prime:\")\n",
    "denom = gcd(poly1, poly2, 3)\n",
    "println(\"The greatest common denominator of $poly1 and $poly2 is $denom mod 3\")"
   ]
  },
  {
   "cell_type": "code",
   "execution_count": 2,
   "id": "d0bed932",
   "metadata": {},
   "outputs": [
    {
     "name": "stderr",
     "output_type": "stream",
     "text": [
      "\u001b[32m\u001b[1m  Activating\u001b[22m\u001b[39m project at `C:\\Users\\1908l\\OneDrive\\MATH2504\\Matthew-Lynch-2504-2023-PROJECT1`\n"
     ]
    },
    {
     "name": "stdout",
     "output_type": "stream",
     "text": [
      "First we create a polynomial x, with coefficient 1 and power 1, using x_poly().\n",
      "This polynomial can then be manipulated to create other polynomials: \n",
      "3x³ + 4x + 2\n",
      "x² - 5x - 8\n",
      "x² - 16\n",
      "We can also create specific types of polynomials, like cyclotonic polynomials or linear monic polynomials, using only integer input.\n",
      "Cyclotonic: x³ - x\n",
      "Linear monic: x - 4\n",
      "We can gain information about polynomials, such as the number of terms, highest degree and evaluate it at a given point x.\n",
      "3x³ + 4x + 2 has highest degree 3, has 3 terms and has a value of 34 at x=2.\n",
      "A polynomial's derivative can be found also: \n",
      "The derivative of x² - 5x - 8 is 2x - 5\n",
      "We can also do the operations of addition: \n",
      "3x³ + 4x + 2 + x² - 5x - 8 = 3x³ + x² - x - 6\n",
      "Multiplication: \n",
      "3x³ + 4x + 2 * x² - 5x - 8 = 3x⁵ - 15x⁴ - 20x³ - 18x² - 42x - 16\n",
      "Substraction: \n",
      "3x³ + 4x + 2 - x² - 5x - 8 = 3x³ - x² + 9x + 10\n",
      "And division modulo prime, where the output is a tuple of the quotient and the remainder. For example mod 3: \n",
      "(x² - 16) ÷ (3x³ + 4x + 2) mod 3 = (x + 1, 0)\n",
      "We can also factorise polynomials modulo p, where p is prime. Output is a vector of tuples of polynomials and their multiplicity,\n",
      " such that their product mod p is the input polynomial.  Again using mod 3: \n",
      "3x³ + 4x + 2 factorised mod 3 = (x + 2, 1)\n",
      "And this factorisation can be reconstructed, with output given mod prime: \n",
      "Reconstructing: x + 2\n",
      "We can also find the greatest common denominator of two polynomials, mod prime:\n",
      "The greatest common denominator of 3x³ + 4x + 2 and x² - 5x - 8 is x + 2 mod 3\n"
     ]
    }
   ],
   "source": [
    "include(\"example_script_2\")"
   ]
  },
  {
   "cell_type": "markdown",
   "id": "e2293f64",
   "metadata": {},
   "source": [
    "For the Pretty Printing task, I changed the show methods for terms and polynomials, and introduced the global variable lowest_to_highest. This involved \n",
    "- checking if the degree was zero, in which case x and the degree would be removed\n",
    "- checking if the degree was zero, in which case x would be included but the degree wouldn't be displayed\n",
    "- checking if the coefficient was +/- 1, in which case the coefficient would not be displayed\n",
    "- displaying the sign if negative, and not displaying it if positive\n",
    "- checking the sign of the next term, and printing plus or minus accordingly\n",
    "- creating a function super(), which would convert the (nonzero, non-one) degree of a term to it's superscript equivalent in unicode\n",
    "- changing the order of display of terms, dependent on if lowest_to_highest is true, false or not defined\n",
    "\n",
    "See the changes to the show() method in term.jl below:"
   ]
  },
  {
   "cell_type": "code",
   "execution_count": null,
   "id": "7559c47b",
   "metadata": {},
   "outputs": [],
   "source": [
    "\"\"\"\n",
    "Show a term.\n",
    "\"\"\"\n",
    "function show(io::IO, t::Term)\n",
    "    #define the coefficient and degree parts separately, then combine into one with io\n",
    "        #first determine if constant\n",
    "        coefficient, xdegree = 0,0\n",
    "        if t.degree == 0\n",
    "            xdegree = \"\" # removes the x^0\n",
    "            # now checking if coefficient is one. if so, print +1 or -1 when it's the constant term\n",
    "            if t.coeff == -1 \n",
    "                coefficient = \"-1\"\n",
    "            elseif t.coeff == 1\n",
    "                coefficient = \"1\"\n",
    "            else\n",
    "                coefficient = t.coeff\n",
    "            end\n",
    "        elseif t.degree == 1 #non-constant scenario, degree is one. still need to remove coefficients if one\n",
    "            xdegree = \"x\"\n",
    "            if t.coeff == -1 \n",
    "                coefficient = \"-\"\n",
    "            elseif t.coeff == 1\n",
    "                coefficient = \"\"\n",
    "            else\n",
    "                coefficient = t.coeff\n",
    "            end\n",
    "        else # nonconstant scenario, degree is not one or zero. still need to remove coefficients if one\n",
    "            xdegree = \"x$(super(string(t.degree)))\"\n",
    "            if t.coeff == -1 \n",
    "                coefficient = \"-\"\n",
    "            elseif t.coeff == 1\n",
    "                coefficient = \"\"\n",
    "            else\n",
    "                coefficient = t.coeff\n",
    "            end\n",
    "        end \n",
    "        print(io, \"$(coefficient)$xdegree\")\n",
    "    end\n",
    "\n"
   ]
  },
  {
   "cell_type": "markdown",
   "id": "43f4bdcc",
   "metadata": {},
   "source": [
    "And see the changes to the show() method in polynomial.jl below. Note that the global variable lowest_to_highest is stored in the main project file."
   ]
  },
  {
   "cell_type": "code",
   "execution_count": null,
   "id": "fc0e7538",
   "metadata": {},
   "outputs": [],
   "source": [
    "\"\"\"\n",
    "Show a polynomialDense.\n",
    "\"\"\"\n",
    "function show(io::IO, p::Polynomial)\n",
    "    if iszero(p)\n",
    "        print(io, \"0\")\n",
    "    else\n",
    "    # make a local variable, false if lowest_to_highest is false or it doesnt exist, and true otherwise\n",
    "    global localorder = true\n",
    "    if (@isdefined lowest_to_highest) == false\n",
    "        localorder = false\n",
    "    elseif lowest_to_highest == false\n",
    "        localorder = false\n",
    "    else\n",
    "        localorder = true\n",
    "    end\n",
    "        for (i,t) in (localorder ? enumerate(p.terms) : enumerate(reverse(p.terms))) \n",
    "            if !iszero(t)\n",
    "                if i == 1 # if first term, only print sign if negative\n",
    "                    print(io, t.coeff > 0 ? \"$(string(t)[1:end])\" : \"- $(string(t)[2:end])\")\n",
    "                else # if not first term, print plus or minus, depending on the sign of the term.\n",
    "                    print(io, t.coeff < 0 ? \" - $(string(t)[2:end])\" : \" + $(string(t)[1:end])\")\n",
    "                end\n",
    "            end\n",
    "        end\n",
    "    end\n",
    "end\n",
    "\n"
   ]
  },
  {
   "cell_type": "markdown",
   "id": "c7f7184a",
   "metadata": {},
   "source": [
    "Additionally, here is the function super() I used to convert from numbers to their superscript equivalents:"
   ]
  },
  {
   "cell_type": "code",
   "execution_count": null,
   "id": "215e17d0",
   "metadata": {},
   "outputs": [],
   "source": [
    "\"\"\"\n",
    "Converts from integers to their superscript equivalents.\n",
    "\"\"\"\n",
    "function super(s)\n",
    "    super_chars = ['⁰', '¹', '²', '³', '⁴', '⁵', '⁶', '⁷', '⁸', '⁹']\n",
    "    res = \"\"\n",
    "    for c in s\n",
    "        if c >= '0' && c <= '9'\n",
    "            res *= super_chars[c - '0' + 1] # plus 1 for indexing\n",
    "        end\n",
    "    end\n",
    "    return res\n",
    "end"
   ]
  },
  {
   "cell_type": "markdown",
   "id": "f6f6b54e",
   "metadata": {},
   "source": [
    "## Task 2: Refactoring into PolynomialSparse\n",
    "\n",
    "Creating the PolynomialSparse type required building off the original polynomial struct (now referred to as PolynomialDense).\n",
    "\n",
    "#### File Organisation/Locations for Task 2\n",
    "The main file for creating the PolynomialSparse struct has been created in the same location as the original polynomial.jl file, and named polynomial_sparse.jl. In accordance with the instructions, the original polynomial.jl file has been renamed to polynomial_dense.jl, and all occurances of the original polynomial struct have been renamed to PolynomialDense. \n",
    "\n",
    "The code for implementing polynomialsparse addition, multiplication, GCD and division has been included in the same corresponding files as for polynomialdense, in the folder basic_polynomial_operations. The different methods for PolynomialSparse and PolynomialDense have been label as such in the function descriptions.\n",
    "\n",
    "The tests original for PolynomialDense have been duplicated and adjusted to work for PolynomialSparse, and are included in the 'test' file and labelled polynomialsparse_test and polynomialdense_test accordingly.\n",
    "\n",
    "#### The PolynomialSparse Struct\n",
    "Similarly to PolynomialDense, PolynomialSparse may take input as a vector of terms. However, PolynomialSparse has two fields, a linked list of the terms in the polynomial (called terms), and a dictionary (called dict). The dictionary has keys of the degrees present in the polynomial with non-zero coefficients - each key has a value that indicates where in the linked list the corresponding term can be found. The linked list itself is not sorted, so PolynomialSparse sorts the terms by degree and updates their location in the dictionary using the insert_sorted!() function. See the structure of PolynomialSparse below:"
   ]
  },
  {
   "cell_type": "code",
   "execution_count": null,
   "id": "f8a5ece5",
   "metadata": {},
   "outputs": [],
   "source": [
    "lowest_to_highest = false\n",
    "\n",
    "struct PolynomialSparse\n",
    "\n",
    "    terms::MutableLinkedList{Term} \n",
    "    dict::Dict{Int, DataStructures.ListNode{Term}} \n",
    "\n",
    "    #Inner constructor of the 0 polynomial\n",
    "    PolynomialSparse() = new(MutableLinkedList{Term}(zero(Term)), Dict{Int, DataStructures.ListNode{Term}}(0=>DataStructures.ListNode{Term}(zero(Term))))\n",
    "\n",
    "\n",
    "    #Inner constructor of polynomial based on arbitrary list of terms\n",
    "    function PolynomialSparse(terms::Vector{Term})\n",
    "        #Filter the vector so that there is not more than a single zero term\n",
    "        terms = sort(filter((t)->!iszero(t), terms))\n",
    "        if isempty(terms)\n",
    "            terms = [zero(Term)]\n",
    "        end\n",
    "        # initialise empty linked list and dictionary\n",
    "        lst = MutableLinkedList{Term}()\n",
    "        dict = Dict{Int, DataStructures.ListNode{Term}}()\n",
    "        # create list and dictionary out of the vector of terms\n",
    "        for t in terms\n",
    "            insert_sorted!(lst, dict, t.degree, t)\n",
    "        end\n",
    "\n",
    "        return new(lst, dict)\n",
    "    end\n",
    "end\n",
    "\n"
   ]
  },
  {
   "cell_type": "markdown",
   "id": "f52189d4",
   "metadata": {},
   "source": [
    "In many cases, creating methods for PolynomialSparse based on the methods for PolynomialDense involved changing the name and changing the references to a vector of terms to references to a linked list. In cases where terms had to be added or deleted (such as above in the inner constructor), the push!() and pop!() commands were replaced by insert_sorted!() and delete_element!() respectively. As a result, there are no methods for push!() and pop!() for PolynomialSparse.\n",
    "\n",
    "Similarly, as the entire point of PolynomialSparse is to avoid storing excess zeroes, it became redundant to include a trim!() function for PolynomialSparse.\n",
    "\n",
    "The key differences in implementation for PolynomialSparse were in the methods for addition and derivation. For addition of a PolynomialSparse and a term, first I checked if an element of that degree was present - if not, insert_sorted!() was used to add that element. If so, the term and the relevant element were added - if this addition resulted in a coefficient of zero, the element was deleted using delete_element. If the coefficient was not zero, the original element was deleted, and the sum of that element and the term was inserted. After this was done, the method for addition of two polynomialsparses and multiplication of polynomialsparse (which is just many additions tied together) did not need to change substantially. See code for addition of polynomialsparse and a term below:"
   ]
  },
  {
   "cell_type": "code",
   "execution_count": null,
   "id": "115187ef",
   "metadata": {},
   "outputs": [],
   "source": [
    "\"\"\"\n",
    "Add a polynomialsparse and a term.\n",
    "\"\"\"\n",
    "function +(p::PolynomialSparse, t::Term)\n",
    "    p = deepcopy(p)\n",
    "    checkelement = get_element(p.terms, p.dict, t.degree) # try get the element of the same degree as the term we're adding\n",
    "    if isnothing(checkelement) # if doesnt have a term of that degree\n",
    "        insert_sorted!(p.terms, p.dict, t.degree, t)\n",
    "    else #case where we're adding the term to an existing term\n",
    "        checkelement += t #term addition\n",
    "        # if they cancel out, the coefficient being zero auto sets the degree to be zero as well. if this happens, remove that degree but don't add anything\n",
    "        delete_element!(p.terms, p.dict, t.degree)\n",
    "        if checkelement.coeff == 0\n",
    "            nothing\n",
    "        else\n",
    "            insert_sorted!(p.terms, p.dict, checkelement.degree, checkelement)\n",
    "        end\n",
    "    end\n",
    "\n",
    "    return p\n",
    "end\n",
    "\n"
   ]
  },
  {
   "cell_type": "markdown",
   "id": "f61b62eb",
   "metadata": {},
   "source": [
    "Additionally, I added methods to both PolynomialDense and PolynomialSparse that allowed for subtraction of terms from a polynomial and vice-versa:"
   ]
  },
  {
   "cell_type": "code",
   "execution_count": null,
   "id": "94cf9363",
   "metadata": {},
   "outputs": [],
   "source": [
    "\"\"\"\n",
    "Subtraction of an integer from a polynomialdense\n",
    "\"\"\"\n",
    "-(p1::PolynomialDense, n::Int)::PolynomialDense = p1 + -n\n",
    "-(n::Int, p1::PolynomialDense)::PolynomialDense = -p1 + n\n",
    "\n",
    "\"\"\"\n",
    "Subtraction of an integer from a polynomialsparse\n",
    "\"\"\"\n",
    "-(p1::PolynomialSparse, n::Int)::PolynomialSparse = p1 + -n\n",
    "-(n::Int, p1::PolynomialSparse)::PolynomialSparse = -p1 + n\n",
    "\n"
   ]
  },
  {
   "cell_type": "markdown",
   "id": "551943ae",
   "metadata": {},
   "source": [
    "I also created tests for PolynomialSparse, both those equivalent to those already existing for PolynomialDense and additional ones. The additional tests check that excess zeroes are not being stored in PolynomialSparse for terms with coefficient zero, and that adding the zero term does not change the polynomial:"
   ]
  },
  {
   "cell_type": "code",
   "execution_count": 3,
   "id": "7f11c134",
   "metadata": {},
   "outputs": [
    {
     "name": "stdout",
     "output_type": "stream",
     "text": [
      "prod_test_polysparse - PASSED\n",
      "prod_derivative_test_polysparse - PASSED\n",
      "division_test_polysparse - PASSED\n",
      "ext_euclid_test_polysparse - PASSED\n",
      "test_excess_zeros - PASSED\n",
      "test_excess_zeros - PASSED\n",
      "\n",
      "doing prime = 5 \t..........\n",
      "doing prime = 17 \t..........\n",
      "doing prime = 19 \t..........\n",
      "factor_test_polysparse - PASSED\n"
     ]
    }
   ],
   "source": [
    "include(\"test\\\\polynomialsparse_test.jl\")\n",
    "# and the factorisation test for polynomialsparse:\n",
    "include(\"test\\\\factorization_test.jl\")\n",
    "factor_test_polysparse()\n",
    "\n"
   ]
  },
  {
   "cell_type": "markdown",
   "id": "21c410ee",
   "metadata": {},
   "source": [
    "### Sparse vs Dense Discussion\n",
    "PolynomialDense is less efficient in terms of storage, especially for polynomials that have a large number of zero terms between non-zero terms (ie x^100 - x). This is because PolynomialDense relies on vector indexing to retain order. PolynomialSparse's usage of a linked list avoids this issue, by having each node 'point' to the next largest node (with the notion of 'largest' by dictated by degree size). This bypasses the need to store excess zeroes between terms. Thus PolynomialSparse could represent the same polynomial as PolynomialDense, but use far fewer elements and use less memory as a result.\n",
    "\n",
    "There are two potential advantages PolynomialDense could have over PolynomialSparse - lookup time and the addition method. Since PolynomialDense stores its terms in an array, it's lookup time is constant. However, lookup time in a linked list (as is used in PolynomialSparse) is linear, and therefore is less efficient. This is dealt with through the use of the dictionary field in PolynomialSparse. The dictionary has keys of the degrees present in the linked list, and the keys indicate the node in the linked list where the term is stored. When trying to access a term of a given degree in PolynomialSparse, instead of having to search sequentially through the linked list, it can just refer to the dictionary - as dictionary lookup time is constant, this makes term access in PolynomialSparse just as efficient as in PolynomialDense.\n",
    "\n",
    "Addition is still much simpler in PolynomialDense, as it just uses vector addition and the pre-existing term addition method. PolynomialSparse is more computationally complex - it requires retrieving the relevant term to add and checking if the term addition results in a term with a coefficient = 0. If so, the delete_element function must be called."
   ]
  },
  {
   "cell_type": "markdown",
   "id": "3a29040e",
   "metadata": {},
   "source": [
    "## Task 3: Refactoring into PolynomialSparse128"
   ]
  },
  {
   "cell_type": "markdown",
   "id": "37964bb1",
   "metadata": {},
   "source": [
    "To create a PolynomialSparse128 type that had Int128 coefficients, I first created a Term128 type with Int128 coefficients in the src folder. For this, I changed the struct to accept anything within the Integer type - if not already large enough to default to being an Int128, the inner constructor would convert it to an Int128. See modified struct below:"
   ]
  },
  {
   "cell_type": "code",
   "execution_count": null,
   "id": "1ac512ce",
   "metadata": {},
   "outputs": [],
   "source": [
    "\"\"\"\n",
    "A Term128.\n",
    "\"\"\"\n",
    "struct Term128  #structs are immutable by default\n",
    "    coeff::Int128\n",
    "    degree::Integer\n",
    "    function Term128(coeff::Integer, degree::Integer)\n",
    "        coeff = Int128(coeff)\n",
    "        degree < 0 && error(\"Degree must be non-negative\")\n",
    "        coeff != 0 ? new(coeff,degree) : new(coeff,0)\n",
    "    end\n",
    "end\n",
    "\n"
   ]
  },
  {
   "cell_type": "markdown",
   "id": "28bfef6e",
   "metadata": {},
   "source": [
    "The only other differences between Term and Term128 were that the methods for Term128 accept Integer input, and will convert to Int128 as needed. Additionally, the instances of Term were changed to Term128. See examples below:"
   ]
  },
  {
   "cell_type": "code",
   "execution_count": null,
   "id": "12e7f013",
   "metadata": {},
   "outputs": [],
   "source": [
    "\"\"\"\n",
    "Multiply two Term128s.\n",
    "\"\"\"\n",
    "*(t1::Term128, t2::Term128)::Term128 = Term128(Int128(t1.coeff * t2.coeff), Int128(t1.degree + t2.degree))\n",
    "\n",
    "\"\"\"\n",
    "Compute the symmetric mod of a Term128 with an integer.\n",
    "\"\"\"\n",
    "mod(t::Term128, p::Integer) = Term128(Int128(mod(t.coeff,p)), Int128(t.degree)) # take term and what we're taking as mod. then do the coeffecient mod p, and keep the degree.\n",
    "\n",
    "\"\"\"\n",
    "Compute the derivative of a Term128.\n",
    "\"\"\"\n",
    "derivative(t::Term128) = Term128(Int128(t.coeff*t.degree),Int128(max(t.degree-1,0)))\n",
    "\n",
    "\"\"\"\n",
    "Divide two Term128s. Returns a function of an integer.\n",
    "\"\"\"\n",
    "function ÷(t1::Term128,t2::Term128) #\\div + [TAB]\n",
    "    @assert t1.degree ≥ t2.degree\n",
    "    f(p::Integer)::Term128 = Term128(Int128(mod((t1.coeff * int_inverse_mod(t2.coeff, p)), p)), Int128(t1.degree - t2.degree))\n",
    "end\n"
   ]
  },
  {
   "cell_type": "markdown",
   "id": "7d79087b",
   "metadata": {},
   "source": [
    "I then created a PolynomialSparse128 struct in the file polynomial_sparse_128.jl in the src folder. Similarly, this involved replacing the instances of Term with Term128, and replacing inputs of Int (which default to Int64) with Integer where necessary. See modified PolynomialSparse128 struct and examples of modified code below: "
   ]
  },
  {
   "cell_type": "code",
   "execution_count": null,
   "id": "35e69604",
   "metadata": {},
   "outputs": [],
   "source": [
    "\"\"\"\n",
    "A PolynomialSparse128 type - designed to be for polynomials with larger integer coefficients and many nonzero terms\n",
    "\"\"\"\n",
    "\n",
    "struct PolynomialSparse128\n",
    "\n",
    "    terms::MutableLinkedList{Term128} \n",
    "    dict::Dict{Integer, DataStructures.ListNode{Term128}} \n",
    "\n",
    "    #Inner constructor of the 0 polynomial\n",
    "    PolynomialSparse128() = new(MutableLinkedList{Term128}(zero(Term128)), Dict{Integer, DataStructures.ListNode{Term128}}(0=>DataStructures.ListNode{Term128}(zero(Term128))))\n",
    "\n",
    "    #Inner constructor of polynomial based on arbitrary list of terms\n",
    "    function PolynomialSparse128(terms::Vector{Term128})\n",
    "        #Filter the vector so that there is not more than a single zero term\n",
    "        terms = sort(filter((t)->!iszero(t), terms))\n",
    "        if isempty(terms)\n",
    "            terms = [zero(Term128)]\n",
    "        end\n",
    "        # initialise empty linked list and dictionary\n",
    "        lst = MutableLinkedList{Term128}()\n",
    "        dict = Dict{Int, DataStructures.ListNode{Term128}}()\n",
    "        # create list and dictionary out of the vector of terms\n",
    "        for t in terms\n",
    "            insert_sorted!(lst, dict, t.degree, t)\n",
    "        end\n",
    "\n",
    "        return new(lst, dict)\n",
    "    end\n",
    "end\n",
    "\n",
    "\"\"\"\n",
    "Construct a polynomial with a single term.\n",
    "\"\"\"\n",
    "PolynomialSparse128(t::Term128) = PolynomialSparse128([t])\n",
    "\n",
    "\"\"\"\n",
    "Construct a polynomial of the form x^p-x.\n",
    "\"\"\"\n",
    "cyclotonic_polynomialsparse128(p::Integer) = PolynomialSparse128([Term128(1,p), Term128(-1,1)])\n",
    "\n",
    "\"\"\"\n",
    "The degree of the polynomial.\n",
    "\"\"\"\n",
    "degree(p::PolynomialSparse128)::Integer = leading(p).degree\n",
    "\n",
    "function divide(num::PolynomialSparse128, den::PolynomialSparse128)\n",
    "    function division_function(p::Integer)\n",
    "        f, g = mod(num,p), mod(den,p) # numerator mod p and denominator mod p\n",
    "        degree(f) < degree(num) && return nothing \n",
    "        iszero(g) && throw(DivideError())\n",
    "        q = PolynomialSparse128(Term128(0,0)) #empty polynomial\n",
    "        delete_element!(q.terms, q.dict, 0)\n",
    "        prev_degree = degree(f) # prev degree is degree of numerator mod p\n",
    "        while degree(f) ≥ degree(g) # while num mod p is >= denom mod p\n",
    "            h = PolynomialSparse128( (leading(f) ÷ leading(g))(p) )  # here dividing leading term by leading term, multiplyng by p, putting into polynomial\n",
    "            f = mod((f - h*g), p) # numerator minus h*g\n",
    "            q = mod((q + h), p)  # empty plus h, mod p\n",
    "            prev_degree == degree(f) && break \n",
    "            prev_degree = degree(f)\n",
    "        end\n",
    "        @assert iszero( mod((num  - (q*g + f)),p))\n",
    "        return q, f\n",
    "    end\n",
    "    return division_function\n",
    "end\n",
    "\n"
   ]
  },
  {
   "cell_type": "markdown",
   "id": "ce521a35",
   "metadata": {},
   "source": [
    "Also see the tests for multiplication, division, derivation, euclid's algorithm for PolynomialSparse128. This also has the sparse-specific tests as described in task 2, and a test overflow_test, which prints PASSED when it does operations that cause PolynomialSparse to overflow, while PolynomialSparse128 does not."
   ]
  },
  {
   "cell_type": "code",
   "execution_count": 3,
   "id": "5a4158ec",
   "metadata": {},
   "outputs": [
    {
     "name": "stdout",
     "output_type": "stream",
     "text": [
      "prod_test_polysparse128 - PASSED\n",
      "prod_derivative_test_polysparse128 - PASSED\n",
      "division_test_polysparse128 - PASSED\n",
      "ext_euclid_test_polysparse128 - PASSED\n",
      "test_excess_zeros_128 - PASSED\n",
      "test_zero_addition_128 - PASSED\n",
      "OVERFLOW_TEST - PASSED.\n",
      "\n",
      "doing prime = 5 \t..........\n",
      "doing prime = 17 \t..........\n",
      "doing prime = 19 \t..........\n",
      "factor_test_polymodp - PASSED\n",
      "\n",
      "doing prime = 5 \t..........\n",
      "doing prime = 17 \t..........\n",
      "doing prime = 19 \t..........\n",
      "factor_test_polysparse128 - PASSED\n"
     ]
    }
   ],
   "source": [
    "include(\"test\\\\polynomialsparse128_test.jl\")\n",
    "include(\"test\\\\factorization_test.jl\")\n",
    "factor_test_polysparse128()\n",
    "\n"
   ]
  },
  {
   "cell_type": "markdown",
   "id": "0c5fbfd4",
   "metadata": {},
   "source": [
    "Below, the runtime for multiplication in PolynomialSparse vs PolynomialSparse128 is empirically compared. PolynomialSparse is consistently marginally slower than PolynomialSparse128, and also displays the wrong number due to overflow."
   ]
  },
  {
   "cell_type": "code",
   "execution_count": 9,
   "id": "45bca5fb",
   "metadata": {},
   "outputs": [
    {
     "name": "stdout",
     "output_type": "stream",
     "text": [
      "Time the multiplication of the Int64 PolynomialSparses 9223372036854775807x³ + 9223372036854775807x² and 9223372036854775807x² + 9223372036854775807x\n",
      "  0.000278 seconds (128 allocations: 10.234 KiB)\n",
      "Time the multiplication of the Int128 PolynomialSparses 9223372036854775807x³ + 9223372036854775807x² and 9223372036854775807x² + 9223372036854775807x\n",
      "  0.000185 seconds (140 allocations: 11.641 KiB)\n"
     ]
    },
    {
     "data": {
      "text/plain": [
       "85070591730234615847396907784232501249x⁵ + 170141183460469231694793815568465002498x⁴ + 85070591730234615847396907784232501249x³"
      ]
     },
     "execution_count": 9,
     "metadata": {},
     "output_type": "execute_result"
    }
   ],
   "source": [
    "include(\"test\\\\timing_test.jl\")\n",
    "\n"
   ]
  },
  {
   "cell_type": "markdown",
   "id": "3f994e35",
   "metadata": {},
   "source": [
    "## Task 4: Creating PolynomialModP\n",
    "To implement PolynomialModP, I created a struct with two fields: one for the polynomial sparse and one for the prime. The struct for PolynomialModP automatically takes the mod of the polynomialsparse, naturally restricting the coefficients for PolynomialModP to [0,1...,prime-1]. Additionally, I changed the show method to add 'mod p' to the end. See struct and show method below:"
   ]
  },
  {
   "cell_type": "code",
   "execution_count": null,
   "id": "1b8cd3e1",
   "metadata": {},
   "outputs": [],
   "source": [
    "struct PolynomialModP\n",
    "    # fields\n",
    "    polynomial::PolynomialSparse\n",
    "    prime::Int\n",
    "    # inner constructor\n",
    "    function PolynomialModP(poly::PolynomialSparse, p::Int)\n",
    "        if isempty(poly)\n",
    "            poly = PolynomialSparse()\n",
    "        end\n",
    "        return new(mod(poly,p),p)\n",
    "    end\n",
    "end\n",
    "\n",
    "\"\"\"\n",
    "Show a polynomial mod p\n",
    "\"\"\"\n",
    "function show(io::IO, p::PolynomialModP)\n",
    "    show(io, p.polynomial)\n",
    "    print(io, \" (mod $(p.prime))\")\n",
    "end"
   ]
  },
  {
   "cell_type": "markdown",
   "id": "8856e5c4",
   "metadata": {},
   "source": [
    "To add the methods for addition, multiplication, show, etc, I was able to just call on the existing methods for PolynomialSparse in most cases, then automatically divide it mod p using the prime field. In these cases, I modified the functions to accept input of a prime number as well. See examples below:"
   ]
  },
  {
   "cell_type": "code",
   "execution_count": null,
   "id": "f379b9e2",
   "metadata": {},
   "outputs": [],
   "source": [
    "\"\"\"\n",
    "Creates the zero polynomial, mod p\n",
    "\"\"\"\n",
    "zero(::Type{PolynomialModP}, p::Int)::PolynomialModP = PolynomialModP(PolynomialSparse(), p)\n",
    "\n",
    "\"\"\"\n",
    "Creates the unit polynomial with p attached\n",
    "\"\"\"\n",
    "one(::Type{PolynomialModP}, p::Int)::PolynomialModP = PolynomialModP(PolynomialSparse(one(Term)), p)\n",
    "one(p::PolynomialModP) = one(typeof(p),p.prime)\n",
    "\n",
    "\"\"\"\n",
    "The degree of the polynomial.\n",
    "\"\"\"\n",
    "degree(p::PolynomialModP)::Int = degree(p.polynomial)\n",
    "\n",
    "\"\"\"\n",
    "The content of the polynomial is the GCD of its coefficients.\n",
    "\"\"\"\n",
    "content(p::PolynomialModP)::Int = euclid_alg(coeffs(p.polynomial))\n",
    "\n"
   ]
  },
  {
   "cell_type": "markdown",
   "id": "6e5500d8",
   "metadata": {},
   "source": [
    "The operations to that previously returned a function of a prime were changed to automatically use the prime built-in to the PolynomialModP, and simply return the end result instead of another function. Functions that had the modification made include Euclid's Algorithm, GCD and divide - see examples below:"
   ]
  },
  {
   "cell_type": "code",
   "execution_count": null,
   "id": "663449e9",
   "metadata": {},
   "outputs": [],
   "source": [
    "\"\"\"\n",
    "The extended euclid algorithm for polynomialmodp, where prime is built into both a and b.\n",
    "\"\"\"\n",
    "function extended_euclid_alg(a::PolynomialModP, b::PolynomialModP)\n",
    "    @assert a.prime == b.prime\n",
    "    prime = a.prime\n",
    "    return extended_euclid_alg(a.polynomial, b.polynomial, prime)\n",
    "end\n",
    "\n",
    "\"\"\"\n",
    "Division algorithm for polynomialmodp, provided the numerator and denominator are mod the same prime.\n",
    "Uses the inbuilt prime in polynomialmodp, so it does not return a function\n",
    "\"\"\"\n",
    "function divide(num::PolynomialModP, den::PolynomialModP)\n",
    "    @assert num.prime == den.prime\n",
    "    return divide(num.polynomial, den.polynomial)(num.prime)\n",
    "end\n",
    "\n",
    "\"\"\"\n",
    "The GCD of two polynomialmodps\n",
    "\"\"\"\n",
    "gcd(a::PolynomialModP, b::PolynomialModP) = extended_euclid_alg(a,b) |> first\n",
    "\n"
   ]
  },
  {
   "cell_type": "markdown",
   "id": "4df6f761",
   "metadata": {},
   "source": [
    "I also implemented ^ for PolynomialModP. Since this result will automatically be taken mod p, the pow_mod method is redundant. See ^ method below:"
   ]
  },
  {
   "cell_type": "code",
   "execution_count": null,
   "id": "13c823a1",
   "metadata": {},
   "outputs": [],
   "source": [
    "\"\"\"\n",
    "Original power of a polynomialmodp\n",
    "\"\"\"\n",
    "function ^(p::PolynomialModP, n::Int)\n",
    "    return PolynomialModP((p.polynomial^n), p.prime)\n",
    "end"
   ]
  },
  {
   "cell_type": "markdown",
   "id": "58b3fd6f",
   "metadata": {},
   "source": [
    "I also created tests for PolynomialModP analogous to those existing for PolynomialSparse:"
   ]
  },
  {
   "cell_type": "code",
   "execution_count": 5,
   "id": "461cd87a",
   "metadata": {},
   "outputs": [
    {
     "name": "stdout",
     "output_type": "stream",
     "text": [
      "prod_test_polymodp - PASSED\n",
      "prod_derivative_test_polymodp - PASSED\n",
      "division_test_polymodp - PASSED\n",
      "ext_euclid_test_polymodp - PASSED\n",
      "test_excess_zeros - PASSED\n",
      "test_excess_zeros - PASSED\n",
      "\n",
      "doing prime = 5 \t..........\n",
      "doing prime = 17 \t..........\n",
      "doing prime = 19 \t..........\n",
      "factor_test_polymodp - PASSED\n",
      "\n",
      "doing prime = 5 \t..........\n",
      "doing prime = 17 \t..........\n",
      "doing prime = 19 \t..........\n",
      "factor_test_polymodp - PASSED\n"
     ]
    }
   ],
   "source": [
    "include(\"test\\\\polynomialmodp_test.jl\")\n",
    "include(\"test\\\\factorization_test.jl\")\n",
    "factor_test_polymodp()\n",
    "\n"
   ]
  },
  {
   "cell_type": "markdown",
   "id": "66473f70",
   "metadata": {},
   "source": [
    "## Task 5: Multiplication Using the CRT\n",
    "The code for this section is contained in the CRT folder.\n",
    "\n",
    "For this task I first created a function that performed the CRT on integers, and incorporated this into a function that performs the CRT on PolynomialModP128:"
   ]
  },
  {
   "cell_type": "code",
   "execution_count": null,
   "id": "bd1f552a",
   "metadata": {},
   "outputs": [],
   "source": [
    "\"\"\"\n",
    "Implments the CRT using two 2-element vectors of integers.\n",
    "\"\"\"\n",
    "function CRT_int(ui::Vector{Int}, m::Vector{Int})\n",
    "    @assert length(ui) == length(m)\n",
    "    v = Vector{Int}(undef, length(ui))\n",
    "    v[1] = ui[1]\n",
    "    v[2] = (ui[2] -v[1])*invmod(m[1], m[2]) % m[2]\n",
    "    u = v[1] + v[2]*m[1]\n",
    "    return u\n",
    "end\n",
    "\n",
    "\"\"\"\n",
    "Implements the CRT for two polynomialmodp128s (with their primes inbuilt), using the CRT_int function.\n",
    "\"\"\"\n",
    "function CRT_poly(p1::PolynomialModP128, p2::PolynomialModP128)::PolynomialModP128\n",
    "    a = deepcopy(p1).polynomial\n",
    "    b = deepcopy(p2).polynomial\n",
    "    n = p1.prime\n",
    "    m = p2.prime\n",
    "    x = x_polysparse128()\n",
    "    c = PolynomialSparse128([Term128(0,0)])\n",
    "    delete_element!(c.terms, c.dict, 0)\n",
    "    while !iszero(leading(a)) || !iszero(leading(b))\n",
    "        k = max(degree(a), degree(b))\n",
    "        if k > degree(a)\n",
    "            ak = 0\n",
    "        else\n",
    "            ak = leading(a).coeff\n",
    "            if iszero(leading(a))\n",
    "                nothing\n",
    "            else\n",
    "                leading(a).degree\n",
    "                delete_element!(a.terms, a.dict, leading(a).degree)\n",
    "            end\n",
    "        end\n",
    "        if k > degree(b)\n",
    "            bk = 0\n",
    "        else\n",
    "            bk = leading(b).coeff\n",
    "            if iszero(leading(b))\n",
    "                nothing\n",
    "            else\n",
    "                delete_element!(b.terms, b.dict, leading(b).degree)\n",
    "            end\n",
    "        end\n",
    "        ck = CRT_int([Integer(ak), Integer(bk)], [n, m])\n",
    "        c = c + ck*x^k\n",
    "    end\n",
    "    return PolynomialModP(c, n*m)\n",
    "end"
   ]
  },
  {
   "cell_type": "markdown",
   "id": "52988ee8",
   "metadata": {},
   "source": [
    "To do CRT multiplication, I needed a version of PolynomialModP that can accept PolynomialSparse128. I did this by creating a new polynomial type called PolynomialModP128, which is identical to PolynomialModP except that it can use Int128. See struct below, as well as the multiplication methods (as only multiplication is strictly needed to do task 5):"
   ]
  },
  {
   "cell_type": "code",
   "execution_count": null,
   "id": "ac2a7c7a",
   "metadata": {},
   "outputs": [],
   "source": [
    "\"\"\"\n",
    "PolynomialModP128 type - takes a PolynomialSparse128 and a prime as fields, and does operations mod prime\n",
    "\"\"\"\n",
    "struct PolynomialModP128\n",
    "    # fields\n",
    "    polynomial::PolynomialSparse128\n",
    "    prime::Integer\n",
    "    # inner constructor\n",
    "    function PolynomialModP128(poly::PolynomialSparse128, p::Integer)\n",
    "        if isempty(poly)\n",
    "            poly = PolynomialSparse128()\n",
    "        end\n",
    "        return new(mod(poly,p),p)\n",
    "    end\n",
    "end\n",
    "\n",
    "\"\"\"\n",
    "Multiplication of PolynomialModP128 and term.\n",
    "\"\"\"\n",
    "function *(t::Term128, p1::PolynomialModP128)::PolynomialModP128  # = iszero(t) ? PolynomialSparse128() : Polynomial(map((pt)->t*pt, p1.terms))\n",
    "    return PolynomialModP128(t*p1.polynomial, p1.prime)\n",
    "end\n",
    "\n",
    "\"\"\"\n",
    "Multiply two polynomialmodp128s, provided they are mod the same prime\n",
    "\"\"\"\n",
    "function *(p1::PolynomialModP128, p2::PolynomialModP128)::PolynomialModP128\n",
    "    @assert p1.prime == p2.prime\n",
    "    return PolynomialModP128((p1.polynomial*p2.polynomial), p1.prime)\n",
    "end\n",
    "\n"
   ]
  },
  {
   "cell_type": "markdown",
   "id": "6c7fde8d",
   "metadata": {},
   "source": [
    "The final step before implementing CRT multiplication is to create a method for the symmetric mod for integers, Term128 and then PolynomialModP128:"
   ]
  },
  {
   "cell_type": "code",
   "execution_count": null,
   "id": "3b0efc6e",
   "metadata": {},
   "outputs": [],
   "source": [
    "\"\"\"\n",
    "Symmetric mod for integers\n",
    "\"\"\"\n",
    "function smod(a::Integer, m::Integer)\n",
    "    if mod(a,m) <= m//2\n",
    "        return mod(a,m)\n",
    "    else\n",
    "        return mod(a,m) - m\n",
    "    end\n",
    "end\n",
    "\n",
    "\"\"\"\n",
    "Compute the symmetric mod of a Term128 with an integer.\n",
    "\"\"\"\n",
    "smod(t::Term128, p::Integer) = Term128(Int128(smod(t.coeff,p)), Int128(t.degree))\n",
    "\n",
    "\"\"\"\n",
    "Create a method for the symmetric mod for a polynomialsparse128 and an integer\n",
    "\"\"\"\n",
    "function smod(f::PolynomialSparse128, p::Integer)::PolynomialSparse128\n",
    "    smod_vector = Vector{Term128}(undef, length(f.terms))\n",
    "    for (i,t) in enumerate(f.terms)\n",
    "        smod_vector[i] = smod(t, p)\n",
    "    end\n",
    "    return PolynomialSparse128(smod_vector)\n",
    "end\n"
   ]
  },
  {
   "cell_type": "markdown",
   "id": "9c13e4e1",
   "metadata": {},
   "source": [
    "I was then able to use my methods for the integer CRT, polynomial CRT and symmetric mod to create a function that does multiplication for PolynomialSparse128 using the CRT on its PolynomialModP counterparts. I named this one 'multiplication' to more easily distinguish between it and the old version of PolynomialSparse128 multiplication:"
   ]
  },
  {
   "cell_type": "code",
   "execution_count": null,
   "id": "1003c4da",
   "metadata": {},
   "outputs": [],
   "source": [
    "\"\"\"\n",
    "PolynomialSparse128 Multiplication using the CRT\n",
    "\"\"\"\n",
    "function multiplication(a::PolynomialSparse128, b::PolynomialSparse128)\n",
    "    height_a = maximum(abs.(coeffs(a)))\n",
    "    height_b = maximum(abs.((coeffs(b))))\n",
    "    B = 2*height_a*height_b*min(degree(a)+1, degree(b)+1)\n",
    "    p = 3\n",
    "    M = p\n",
    "    moda = PolynomialModP128(a,M)\n",
    "    modb = PolynomialModP128(b,M)\n",
    "    c = (moda * modb).polynomial\n",
    "    while M < B\n",
    "        p = nextprime(p,2)\n",
    "        moda = PolynomialModP128(a,p)\n",
    "        modb = PolynomialModP128(b,p)\n",
    "        c_prime = moda*modb\n",
    "        c = CRT_poly(c, c_prime.polynomial, M, p)\n",
    "        M *= p\n",
    "    end\n",
    "    return smod(c,M)\n",
    "end\n",
    "\n"
   ]
  },
  {
   "cell_type": "markdown",
   "id": "b5b17fda",
   "metadata": {},
   "source": [
    "I then created tests that compared the original multiplication method for PolynomialSparse128 to the CRT method, to ensure it was correct:"
   ]
  },
  {
   "cell_type": "code",
   "execution_count": 8,
   "id": "74c7a3b5",
   "metadata": {},
   "outputs": [
    {
     "name": "stdout",
     "output_type": "stream",
     "text": [
      "CRT Basic Multiplication Test - PASSED\n",
      "CRT commutativity test - PASSED"
     ]
    }
   ],
   "source": [
    "include(\"test\\\\CRT_test.jl\")\n",
    "CRT_mult_test()\n",
    "CRT_commute_test()"
   ]
  },
  {
   "cell_type": "markdown",
   "id": "6310bc42",
   "metadata": {},
   "source": [
    "The following code benchmarks PolynomialSparse128 CRT multiplication against the basic multiplication for a few different examples:"
   ]
  },
  {
   "cell_type": "code",
   "execution_count": 10,
   "id": "76a95a54",
   "metadata": {},
   "outputs": [
    {
     "name": "stdout",
     "output_type": "stream",
     "text": [
      "Time comparison for small numbers.\n",
      "Original Multiplication\n",
      "  0.000067 seconds (190 allocations: 12.297 KiB)\n",
      "CRT Multiplication\n",
      "  0.002537 seconds (14.86 k allocations: 1.071 MiB)\n",
      "Time comparison for large numbers.\n",
      "Original Multiplication\n",
      "  0.000063 seconds (190 allocations: 12.297 KiB)\n",
      "CRT Multiplication\n",
      "  0.029505 seconds (133.85 k allocations: 9.788 MiB, 27.07% gc time)\n"
     ]
    },
    {
     "data": {
      "text/plain": [
       "2518170116818978404827136x³³ + 9937105900423855516680192x²⁷ + 8916100448256000000000000000x²⁶ + 35184372088832000000000000000x²⁰"
      ]
     },
     "execution_count": 10,
     "metadata": {},
     "output_type": "execute_result"
    }
   ],
   "source": [
    "include(\"test\\\\CRT_test.jl\")\n",
    "CRT_time_test()"
   ]
  },
  {
   "cell_type": "markdown",
   "id": "390dacd7",
   "metadata": {},
   "source": [
    "The timing test shows that CRT multiplication is slower for both small and large numbers. This could be because creating deep copies of the inputs for polynomial CRT uses up significantly more memory and processing power - however removing the deep copies could accidentally altering the input, which I would rather not risk."
   ]
  },
  {
   "cell_type": "markdown",
   "id": "f3b8e18e",
   "metadata": {},
   "source": [
    "## Task 6: Factorisation Mod P and Improving Power\n",
    "To incorporate the repeated squares version of ^ and pow_mod, I created a separate method for implementing the powers using repeat squares. This involved introducing repeat squares powers for both PolynomialSparse128 and PolynomialModP, and repeat squares for pow_mod for PolynomialSparse128 (doing so for PolynomialModP would be redundant, as it is already represented mod p)."
   ]
  },
  {
   "cell_type": "code",
   "execution_count": null,
   "id": "040af47d",
   "metadata": {},
   "outputs": [],
   "source": [
    "\"\"\"\n",
    "Implements the repeated squares method of powers for PolynomialSparse128\n",
    "\"\"\"\n",
    "function repsq_power(p::PolynomialSparse128, n::Integer)\n",
    "    # find max binary power needed to reach exponent\n",
    "    maxpower = Int(trunc(log2(n)))\n",
    "    exponents = [2^i for i in 0:maxpower]\n",
    "    binary_string = digits(n, base=2, pad=maxpower) # convert to binary string\n",
    "    outpoly = one(Term128)\n",
    "    for i in 1:length(exponents)\n",
    "        if binary_string[i] == 1\n",
    "            outpoly *= ^(p, exponents[i])\n",
    "        else\n",
    "            nothing\n",
    "        end\n",
    "    end\n",
    "    return outpoly\n",
    "end\n",
    "\n",
    "\n",
    "\"\"\"\n",
    "Implements the repeated squares method of powers (mod p) for PolynomialSparse128\n",
    "\"\"\"\n",
    "function repsq_pow_mod(p::PolynomialSparse128, n:Integer, prime::Integer)\n",
    "    # find max binary power needed to reach exponent\n",
    "    maxpower = Int(trunc(log2(n)))\n",
    "    exponents = [2^i for i in 0:maxpower]\n",
    "    binary_string = digits(n, base=2, pad=maxpower) # convert to binary string\n",
    "    outpoly = one(Term128)\n",
    "    for i in 1:length(exponents)\n",
    "        if binary_string[i] == 1\n",
    "            outpoly *= pow_mod(p, exponents[i], prime)\n",
    "        else\n",
    "            nothing\n",
    "        end\n",
    "    end\n",
    "    return outpoly\n",
    "end\n",
    "\n",
    "\n",
    "\"\"\"\n",
    "Implements the repeated squares method of powers for PolynomialModP\n",
    "\"\"\"\n",
    "function repsq_power(p::PolynomialModP, n::Integer)\n",
    "    # find max binary power needed to reach exponent\n",
    "    maxpower = Int(trunc(log2(n)))\n",
    "    exponents = [2^i for i in 0:maxpower]\n",
    "    binary_string = digits(n, base=2, pad=maxpower) # convert to binary string\n",
    "    outpoly = one(Term)\n",
    "    for i in 1:length(exponents)\n",
    "        if binary_string[i] == 1\n",
    "            outpoly *= ^(p, exponents[i])\n",
    "        else\n",
    "            nothing\n",
    "        end\n",
    "    end\n",
    "    return outpoly\n",
    "end\n",
    "\n"
   ]
  },
  {
   "cell_type": "markdown",
   "id": "5a08389f",
   "metadata": {},
   "source": [
    "I was then able to create new factorisation methods using CRT multiplication and repeated squares powering. I ended up creating a separate method for CRT factorisation instead of replacing the original, to be able to compare their runtimes. See the CRT factorisation method below - the helper functions like CRT_dd_factor and CRT_dd_split are in the CRT_factor file."
   ]
  },
  {
   "cell_type": "code",
   "execution_count": null,
   "id": "0ab0cf58",
   "metadata": {},
   "outputs": [],
   "source": [
    "function CRT_factor(f::PolynomialSparse128, prime::Integer)::Vector{Tuple{PolynomialSparse128,Integer}}\n",
    "    #Cantor Zassenhaus factorization\n",
    "\n",
    "    f_modp = mod(f, prime)\n",
    "    degree(f_modp) ≤ 1 && return [(f_modp,1)]\n",
    "\n",
    "    # make f primitive\n",
    "    ff = prim_part(f_modp)(prime)      \n",
    "    #@show \"after prim:\", ff\n",
    "\n",
    "    # make f square-free\n",
    "    squares_poly = gcd(f, derivative(ff), prime) \n",
    "    ff = (÷(ff, squares_poly))(prime) \n",
    "    # @show \"after square free:\", ff\n",
    "\n",
    "    # make f monic\n",
    "    old_coeff = leading(ff).coeff\n",
    "    ff = (÷(ff,old_coeff))(prime)\n",
    "    # @show \"after monic:\", ff\n",
    "\n",
    "    dds = CRT_dd_factor(ff, prime)\n",
    "\n",
    "    ret_val = Tuple{PolynomialSparse128,Integer}[]\n",
    "\n",
    "    for (k,dd) in enumerate(dds)\n",
    "        sp = CRT_dd_split(dd, k, prime)\n",
    "        sp = map((p)->(p ÷ leading(p).coeff)(prime),sp) #makes the polynomials inside the list sp, monic\n",
    "        for mp in sp\n",
    "            push!(ret_val, (mp, CRT_multiplicity(f_modp,mp,prime)) )\n",
    "        end\n",
    "    end\n",
    "\n",
    "    #Append the leading coefficient as well\n",
    "    push!(ret_val, (multiplication(PolynomialSparse128(Term128(leading(f_modp).coeff, 0)), one(PolynomialSparse128)), 1) )\n",
    "\n",
    "    return ret_val\n",
    "end\n",
    "\n"
   ]
  },
  {
   "cell_type": "markdown",
   "id": "b76fdf4b",
   "metadata": {},
   "source": [
    "### CRT Tests and Benchmarking\n",
    "The following test checks that CRT factorisation for PolynomialSparse128 is correct."
   ]
  },
  {
   "cell_type": "code",
   "execution_count": 2,
   "id": "153d21ad",
   "metadata": {},
   "outputs": [
    {
     "name": "stdout",
     "output_type": "stream",
     "text": [
      "\n",
      "doing prime = 5 \t..........\n",
      "doing prime = 17 \t..........\n",
      "doing prime = 19 \t..........\n",
      "CRT Factorisation Test - PASSED\n"
     ]
    }
   ],
   "source": [
    "include(\"test\\\\factorization_test.jl\")\n",
    "CRT_factor_test()"
   ]
  },
  {
   "cell_type": "markdown",
   "id": "abd9869c",
   "metadata": {},
   "source": [
    "I then timed the speed of the two different PolynomialSparse128 factoring functions I now have. This will be the time taken to factorise 30 polynomials in total."
   ]
  },
  {
   "cell_type": "code",
   "execution_count": 3,
   "id": "5cbeeb37",
   "metadata": {
    "scrolled": true
   },
   "outputs": [
    {
     "name": "stdout",
     "output_type": "stream",
     "text": [
      "\n",
      "doing prime = 5 \t..........\n",
      "doing prime = 17 \t..........\n",
      "doing prime = 19 \t..........\n",
      "CRT Factorisation Test - PASSED\n",
      "140.274358 seconds (245.97 M allocations: 13.493 GiB, 1.82% gc time)\n",
      "\n",
      "doing prime = 5 \t..........\n",
      "doing prime = 17 \t..........\n",
      "doing prime = 19 \t..........\n",
      "factor_test_polysparse128 - PASSED\n",
      "129.631009 seconds (239.69 M allocations: 13.161 GiB, 2.03% gc time)\n"
     ]
    }
   ],
   "source": [
    "include(\"test\\\\factorization_test.jl\")\n",
    "@time CRT_factor_test()\n",
    "@time factor_test_polysparse128()"
   ]
  },
  {
   "cell_type": "markdown",
   "id": "d1336294",
   "metadata": {},
   "source": [
    "Again, CRT factorisation is slower than the original factorisation. Both are longer than the maximum 120 seconds of compute time - however, previous executions of the test functions ran much faster when not being timed. I suspect that calling @time itself is adding computing time.\n",
    "I then stress-tested the CRT factorisation algorithm on a 20-term polynomial. This ended up using 622 seconds of local compute time - again, this is likely a combination of CRT factorisation being slower than normal factorisation and the the added stress of timing it."
   ]
  },
  {
   "cell_type": "code",
   "execution_count": 3,
   "id": "456e226b",
   "metadata": {},
   "outputs": [
    {
     "name": "stdout",
     "output_type": "stream",
     "text": [
      "622.001300 seconds (1.11 G allocations: 61.567 GiB, 1.80% gc time, 0.15% compilation time)\n"
     ]
    },
    {
     "data": {
      "text/plain": [
       "2-element Vector{Tuple{PolynomialSparse128, Integer}}:\n",
       " (x²⁰ + 4x¹⁹ + 15x¹⁸ + 14x¹⁷ + 16x¹⁶ + x¹⁵ + 14x¹⁴ + 9x¹³ + 3x¹¹ + 4x¹⁰ + 13x⁹ + 13x⁸ + 15x⁷ + 16x⁶ + 15x⁵ + 7x⁴ + 10x³ + 16x² + 4x + 1, 1)\n",
       " (13, 1)"
      ]
     },
     "execution_count": 3,
     "metadata": {},
     "output_type": "execute_result"
    }
   ],
   "source": [
    "test = rand(PolynomialSparse128, degree = 20, terms = 20)\n",
    "@time CRT_factor(test,17)"
   ]
  },
  {
   "cell_type": "markdown",
   "id": "764ed1cc",
   "metadata": {},
   "source": [
    "## Bonus Task: Perspective Seminar\n",
    "Dr Mehta’s relationship with mathematics began remarkably early – her uncle, father and mother all had careers in mathematics, leading her to start learning probability at age 6.  After completing her undergraduate in pure maths, she did an honours year focused on partial differential equations, and later completed a PhD in quantum superalgebra.\n",
    "Her first job was at Opcom (later bought and renamed to Carmen, then again to SilverRail) as a software tester. She said she had literally no computer experience other than in LaTeX prior to this job, and had to learn C++ on the fly.  She then moved on to work at mining company Deswik.\n",
    "\n",
    "Dr Mehta now works as lead of software engineering and innovation at You.Smart.Thing, a journey planning company that specialises in travel around big events. She enjoys the unpredictable nature of working at a small company, and thrives off the opportunity to get stuck into smaller, interesting problems that require her kind of ‘lateral thinking.’\n",
    "\n",
    "At You.Smart.Thing, she uses C#, React, MongoDB, Docker and Gravitee. I had never heard of many of these before, and found that they’re used for sourcing community help for certain programming languages like React, or are database programs such as MongoDB. Learning more about the tools available to developers is interesting, as my current knowledge is more restricted to basic tools like GitHub.\n",
    "\n",
    "An interesting point she made was about how it can be difficult for data scientists to know what to look for, as companies and clients often don’t even know what they want to know about the data. I think it will be useful to not only learn how to analyse and report on data, but also be able to pull out the relevant information even when given vague instructions. \n"
   ]
  }
 ],
 "metadata": {
  "kernelspec": {
   "display_name": "Julia 1.9.1",
   "language": "julia",
   "name": "julia-1.9"
  },
  "language_info": {
   "file_extension": ".jl",
   "mimetype": "application/julia",
   "name": "julia",
   "version": "1.9.1"
  }
 },
 "nbformat": 4,
 "nbformat_minor": 5
}
