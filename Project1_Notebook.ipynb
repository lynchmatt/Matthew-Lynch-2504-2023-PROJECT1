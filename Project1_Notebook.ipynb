{
 "cells": [
  {
   "cell_type": "markdown",
   "id": "25e94d20",
   "metadata": {},
   "source": [
    "# MATH2504 - Project 1, 2023\n",
    "## Matthew Lynch (47426557)\n",
    "### GitHub Repository: https://github.com/lynchmatt/Matthew-Lynch-2504-2023-PROJECT1.git"
   ]
  },
  {
   "cell_type": "markdown",
   "id": "83cba7d8",
   "metadata": {},
   "source": [
    "## Intro\n",
    "This notebook organises the written responses and documentation of changes for Tasks 1-6 of Project 1, as well as the perspective seminar write-up. Each task includes a description of the changes made, the relevant code changed, and functionality tests where relevant.\n",
    "\n",
    "Generally speaking, new types were given a file of their own in the same location as the original (Term128, PolynomialSparse, PolynomialSparse128). Modifications to the addition, multiplication, etc methods for each type were included in the original files within the folder basic_polynomial_operations.jl, and clearly labelled with comments. Tests for factorisation were kept with the original factor file in the polynomial_factorization folder. Similarly, tests for different types were included in the test folder."
   ]
  },
  {
   "cell_type": "code",
   "execution_count": 21,
   "id": "7bee66a0",
   "metadata": {},
   "outputs": [
    {
     "name": "stdout",
     "output_type": "stream",
     "text": [
      "10\t25\t35\t\n"
     ]
    }
   ],
   "source": [
    "include(\"poly_factorization_project.jl\")\n"
   ]
  },
  {
   "cell_type": "markdown",
   "id": "b4259cb8",
   "metadata": {},
   "source": [
    "## Task 1: Setup, Example Script 2 and Pretty Printing\n",
    "In this task, I created the GitHub repository for submission (linked at the top of the document), created a second example script called example_script_2, and altered the show methods for the Term and Polynomial structs so the display looked nicer.\n",
    "\n",
    "example_script_2 included the basic functionality shown in the original example_script, and also included further examples of the program's functionality, such as constructing cylotonic and linear polynomials, finding the greatest common denonimator, and division of polynomials over residue classes.\n",
    "\n",
    "See example_script_2's output below:"
   ]
  },
  {
   "cell_type": "code",
   "execution_count": 23,
   "id": "d0bed932",
   "metadata": {},
   "outputs": [
    {
     "name": "stdout",
     "output_type": "stream",
     "text": [
      "First we create a polynomial x, with coefficient 1 and power 1, using x_poly()."
     ]
    },
    {
     "name": "stderr",
     "output_type": "stream",
     "text": [
      "\u001b[32m\u001b[1m  Activating\u001b[22m\u001b[39m project at `C:\\Users\\1908l\\OneDrive\\MATH2504\\Matthew-Lynch-2504-2023-PROJECT1`\n"
     ]
    },
    {
     "name": "stdout",
     "output_type": "stream",
     "text": [
      "\n",
      "This polynomial can then be manipulated to create other polynomials: \n",
      "3x³ + 4x + 2\n",
      "x² - 5x - 8\n",
      "x² - 16\n",
      "We can also create specific types of polynomials, like cyclotonic polynomials or linear monic polynomials, using only integer input.\n",
      "Cyclotonic: x³ - x\n",
      "Linear monic: x - 4\n",
      "We can gain information about polynomials, such as the number of terms, highest degree and evaluate it at a given point x.\n",
      "3x³ + 4x + 2 has highest degree 3, has 3 terms and has a value of 34 at x=2.\n",
      "A polynomial's derivative can be found also: \n",
      "The derivative of x² - 5x - 8 is 2x - 5\n",
      "We can also do the operations of addition: \n",
      "3x³ + 4x + 2 + x² - 5x - 8 = 3x³ + x² - x - 6\n",
      "Multiplication: \n",
      "3x³ + 4x + 2 * x² - 5x - 8 = 3x⁵ - 15x⁴ - 20x³ - 18x² - 42x - 16\n",
      "Substraction: \n",
      "3x³ + 4x + 2 - x² - 5x - 8 = 3x³ - x² + 9x + 10\n",
      "And division modulo prime, where the output is a tuple of the quotient and the remainder. For example mod 3: \n",
      "(x² - 16) ÷ (3x³ + 4x + 2) mod 3 = (x + 1, 0)\n",
      "We can also factorise polynomials modulo p, where p is prime. Output is a vector of tuples of polynomials and their multiplicity,\n",
      " such that their product mod p is the input polynomial.  Again using mod 3: \n",
      "3x³ + 4x + 2 factorised mod 3 = Tuple{PolynomialSparse, Int64}[(x + 2, 1)]\n",
      "And this factorisation can be reconstructed, with output given mod prime: \n",
      "Reconstructing: x + 2\n",
      "We can also find the greatest common denominator of two polynomials, mod prime:\n",
      "The greatest common denominator of 3x³ + 4x + 2 and x² - 5x - 8 is x + 2 mod 3\n"
     ]
    }
   ],
   "source": [
    "include(\"example_script_2\")"
   ]
  },
  {
   "cell_type": "markdown",
   "id": "e2293f64",
   "metadata": {},
   "source": [
    "For the Pretty Printing task, I changed the show methods for terms and polynomials, and introduced the global variable lowest_to_highest. This involved \n",
    "- checking if the degree was zero, in which case x and the degree would be removed\n",
    "- checking if the degree was zero, in which case x would be included but the degree wouldn't be displayed\n",
    "- checking if the coefficient was +/- 1, in which case the coefficient would not be displayed\n",
    "- displaying the sign if negative, and not displaying it if positive\n",
    "- checking the sign of the next term, and printing plus or minus accordingly\n",
    "- creating a function super(), which would convert the (nonzero, non-one) degree of a term to it's superscript equivalent in unicode\n",
    "- changing the order of display of terms, dependent on if lowest_to_highest is true, false or not defined\n",
    "\n",
    "See the changes to the show() method in term.jl below:"
   ]
  },
  {
   "cell_type": "code",
   "execution_count": null,
   "id": "7559c47b",
   "metadata": {},
   "outputs": [],
   "source": [
    "\"\"\"\n",
    "Show a term.\n",
    "\"\"\"\n",
    "function show(io::IO, t::Term)\n",
    "    #define the coefficient and degree parts separately, then combine into one with io\n",
    "    #term(1,0) \n",
    "        #first determine if constant\n",
    "        coefficient, xdegree = 0,0\n",
    "        if t.degree == 0\n",
    "            xdegree = \"\" # removes the x^0\n",
    "            # now checking if coefficient is one. if so, print +1 or -1 when it's the constant term\n",
    "            if t.coeff == -1 \n",
    "                coefficient = \"-1\"\n",
    "            elseif t.coeff == 1\n",
    "                coefficient = \"1\"\n",
    "            else\n",
    "                coefficient = t.coeff\n",
    "            end\n",
    "        elseif t.degree == 1 #non-constant scenario, degree is one. still need to remove coefficients if one\n",
    "            xdegree = \"x\"\n",
    "            if t.coeff == -1 \n",
    "                coefficient = \"-\"\n",
    "            elseif t.coeff == 1\n",
    "                coefficient = \"\"\n",
    "            else\n",
    "                coefficient = t.coeff\n",
    "            end\n",
    "        else # nonconstant scenario, degree is not one or zero. still need to remove coefficients if one\n",
    "            xdegree = \"x$(super(string(t.degree)))\"\n",
    "            if t.coeff == -1 \n",
    "                coefficient = \"-\"\n",
    "            elseif t.coeff == 1\n",
    "                coefficient = \"\"\n",
    "            else\n",
    "                coefficient = t.coeff\n",
    "            end\n",
    "        end \n",
    "        print(io, \"$(coefficient)$xdegree\")\n",
    "    end\n",
    "\n"
   ]
  },
  {
   "cell_type": "markdown",
   "id": "43f4bdcc",
   "metadata": {},
   "source": [
    "And see the changes to the show() method in polynomial.jl below:"
   ]
  },
  {
   "cell_type": "code",
   "execution_count": null,
   "id": "fc0e7538",
   "metadata": {},
   "outputs": [],
   "source": [
    "\"\"\"\n",
    "Show a polynomialDense.\n",
    "\"\"\"\n",
    "function show(io::IO, p::Polynomial)\n",
    "    if iszero(p)\n",
    "        print(io, \"0\")\n",
    "    else\n",
    "    # make a local variable, false if lowest_to_highest is false or it doesnt exist, and true otherwise\n",
    "    global localorder = true\n",
    "    if (@isdefined lowest_to_highest) == false\n",
    "        localorder = false\n",
    "    elseif lowest_to_highest == false\n",
    "        localorder = false\n",
    "    else\n",
    "        localorder = true\n",
    "    end\n",
    "        for (i,t) in (localorder ? enumerate(p.terms) : enumerate(reverse(p.terms))) \n",
    "            if !iszero(t)\n",
    "                if i == 1 # if first term, only print sign if negative\n",
    "                    print(io, t.coeff > 0 ? \"$(string(t)[1:end])\" : \"- $(string(t)[2:end])\")\n",
    "                else # if not first term, print plus or minus, depending on the sign of the term.\n",
    "                    print(io, t.coeff < 0 ? \" - $(string(t)[2:end])\" : \" + $(string(t)[1:end])\")\n",
    "                end\n",
    "            end\n",
    "        end\n",
    "    end\n",
    "end\n",
    "\n"
   ]
  },
  {
   "cell_type": "markdown",
   "id": "f6f6b54e",
   "metadata": {},
   "source": [
    "## Task 2: Refactoring into PolynomialSparse\n",
    "\n",
    "Creating the PolynomialSparse type required building off the original polynomial struct (now referred to as PolynomialDense).\n",
    "\n",
    "#### File Organisation/Locations\n",
    "The main file for creating the PolynomialSparse struct has been created in the same location as the original polynomial.jl file, and named polynomial_sparse.jl. In accordance with the instructions, the original polynomial.jl file has been renamed to polynomial_dense.jl, and all occurances of the original polynomial struct have been renamed to PolynomialDense. \n",
    "\n",
    "The code for implementing polynomialsparse addition, multiplication, GCD and division has been included in the same corresponding files as for polynomialdense, in the folder basic_polynomial_operations. The different methods for PolynomialSparse and PolynomialDense have been label as such in the function descriptions.\n",
    "\n",
    "The tests original for PolynomialDense have been duplicated and adjusted to work for PolynomialSparse, and are included in the 'test' file and labelled polynomialsparse_test and polynomialdense_test accordingly.\n",
    "\n",
    "#### The PolynomialSparse Struct\n",
    "Similarly to PolynomialDense, PolynomialSparse may take input as a vector of terms. However, PolynomialSparse has two fields, a linked list of the terms in the polynomial (called terms), and a dictionary (called dict). The dictionary has keys of the degrees present in the polynomial with non-zero coefficients - each key has a value that indicates where in the linked list the corresponding term can be found. The linked list itself is not sorted, so PolynomialSparse sorts the terms by degree and updates their location in the dictionary using the insert_sorted!() function. See the structure of PolynomialSparse below:"
   ]
  },
  {
   "cell_type": "code",
   "execution_count": null,
   "id": "f8a5ece5",
   "metadata": {},
   "outputs": [],
   "source": [
    "lowest_to_highest = false\n",
    "\n",
    "struct PolynomialSparse\n",
    "\n",
    "    terms::MutableLinkedList{Term} \n",
    "    dict::Dict{Int, DataStructures.ListNode{Term}} \n",
    "\n",
    "    #Inner constructor of the 0 polynomial\n",
    "    PolynomialSparse() = new(MutableLinkedList{Term}(zero(Term)), Dict{Int, DataStructures.ListNode{Term}}(0=>DataStructures.ListNode{Term}(zero(Term))))\n",
    "\n",
    "\n",
    "    #Inner constructor of polynomial based on arbitrary list of terms\n",
    "    function PolynomialSparse(terms::Vector{Term})\n",
    "        #Filter the vector so that there is not more than a single zero term\n",
    "        terms = sort(filter((t)->!iszero(t), terms))\n",
    "        if isempty(terms)\n",
    "            terms = [zero(Term)]\n",
    "        end\n",
    "        # initialise empty linked list and dictionary\n",
    "        lst = MutableLinkedList{Term}()\n",
    "        dict = Dict{Int, DataStructures.ListNode{Term}}()\n",
    "        # create list and dictionary out of the vector of terms\n",
    "        for t in terms\n",
    "            insert_sorted!(lst, dict, t.degree, t)\n",
    "        end\n",
    "\n",
    "        return new(lst, dict)\n",
    "    end\n",
    "end"
   ]
  },
  {
   "cell_type": "markdown",
   "id": "f52189d4",
   "metadata": {},
   "source": [
    "In many cases, creating methods for PolynomialSparse based on the methods for PolynomialDense involved changing the name and changing the references to a vector of terms to references to a linked list. In cases where terms had to be added or deleted (such as above in the inner constructor), the push!() and pop!() commands were replaced by insert_sorted!() and delete_element!() respectively. As a result, there are no methods for push!() and pop!() for PolynomialSparse.\n",
    "\n",
    "The key differences in implementation for PolynomialSparse were in the methods for addition and derivation. For addition of a PolynomialSparse and a term, first I checked if an element of that degree was present - if not, insert_sorted!() was used to add that element. If so, the term and the relevant element were added - if this addition resulted in a coefficient of zero, the element was deleted using delete_element. If the coefficient was not zero, the original element was deleted, and the sum of that element and the term was inserted. After this was done, the method for addition of two polynomialsparses and multiplication of polynomialsparse (which is just many additions tied together) did not need to change substantially. See code for addition of polynomialsparse and a term below:"
   ]
  },
  {
   "cell_type": "code",
   "execution_count": null,
   "id": "115187ef",
   "metadata": {},
   "outputs": [],
   "source": [
    "\"\"\"\n",
    "Add a polynomialsparse and a term.\n",
    "\"\"\"\n",
    "function +(p::PolynomialSparse, t::Term)\n",
    "    p = deepcopy(p)\n",
    "    checkelement = get_element(p.terms, p.dict, t.degree) # try get the element of the same degree as the term we're adding\n",
    "    if isnothing(checkelement) # if doesnt have a term of that degree\n",
    "        insert_sorted!(p.terms, p.dict, t.degree, t)\n",
    "    else #case where we're adding the term to an existing term\n",
    "        checkelement += t #term addition\n",
    "        # if they cancel out, the coefficient being zero auto sets the degree to be zero as well. if this happens, remove that degree but don't add anything\n",
    "        delete_element!(p.terms, p.dict, t.degree)\n",
    "        if checkelement.coeff == 0\n",
    "            nothing\n",
    "        else\n",
    "            insert_sorted!(p.terms, p.dict, checkelement.degree, checkelement)\n",
    "        end\n",
    "    end\n",
    "\n",
    "    return p\n",
    "end"
   ]
  },
  {
   "cell_type": "markdown",
   "id": "f61b62eb",
   "metadata": {},
   "source": [
    "Additionally, I added methods to both PolynomialDense and PolynomialSparse that allowed for subtraction of terms from a polynomial and vice-versa:"
   ]
  },
  {
   "cell_type": "code",
   "execution_count": null,
   "id": "94cf9363",
   "metadata": {},
   "outputs": [],
   "source": [
    "\"\"\"\n",
    "Subtraction of an integer from a polynomialdense\n",
    "\"\"\"\n",
    "-(p1::PolynomialDense, n::Int)::PolynomialDense = p1 + -n\n",
    "-(n::Int, p1::PolynomialDense)::PolynomialDense = -p1 + n\n",
    "\n",
    "\"\"\"\n",
    "Subtraction of an integer from a polynomialsparse\n",
    "\"\"\"\n",
    "-(p1::PolynomialSparse, n::Int)::PolynomialSparse = p1 + -n\n",
    "-(n::Int, p1::PolynomialSparse)::PolynomialSparse = -p1 + n"
   ]
  },
  {
   "cell_type": "markdown",
   "id": "551943ae",
   "metadata": {},
   "source": [
    "I also created tests for PolynomialSparse, both those equivalent to those already existing for PolynomialDense and additional ones. The additional tests check that excess zeroes are not being stored in PolynomialSparse following addition of a zero term and subtraction of equivalent terms:"
   ]
  },
  {
   "cell_type": "code",
   "execution_count": 24,
   "id": "7f11c134",
   "metadata": {},
   "outputs": [
    {
     "name": "stdout",
     "output_type": "stream",
     "text": [
      "prod_test_polysparse - PASSED\n",
      "prod_derivative_test_polysparse - PASSED\n",
      "division_test_polysparse - PASSED\n",
      "ext_euclid_test_polysparse - PASSED\n",
      "test_excess_zeros - PASSED\n"
     ]
    },
    {
     "ename": "LoadError",
     "evalue": "LoadError: AssertionError: length(p1plus) == length(p1)\nin expression starting at C:\\Users\\1908l\\OneDrive\\MATH2504\\Matthew-Lynch-2504-2023-PROJECT1\\test\\polynomialsparse_test.jl:119",
     "output_type": "error",
     "traceback": [
      "LoadError: AssertionError: length(p1plus) == length(p1)\nin expression starting at C:\\Users\\1908l\\OneDrive\\MATH2504\\Matthew-Lynch-2504-2023-PROJECT1\\test\\polynomialsparse_test.jl:119",
      "",
      "Stacktrace:",
      " [1] test_zero_addition()",
      "   @ Main C:\\Users\\1908l\\OneDrive\\MATH2504\\Matthew-Lynch-2504-2023-PROJECT1\\test\\polynomialsparse_test.jl:110",
      " [2] top-level scope",
      "   @ C:\\Users\\1908l\\OneDrive\\MATH2504\\Matthew-Lynch-2504-2023-PROJECT1\\test\\polynomialsparse_test.jl:119",
      " [3] include(fname::String)",
      "   @ Base.MainInclude .\\client.jl:478",
      " [4] top-level scope",
      "   @ In[24]:1"
     ]
    }
   ],
   "source": [
    "include(\"test\\\\polynomialsparse_test.jl\")\n",
    "# and the factorisation test for polynomialsparse:\n",
    "include(\"test\\\\factorization_test.jl\")\n",
    "factor_test_polysparse()"
   ]
  },
  {
   "cell_type": "markdown",
   "id": "21c410ee",
   "metadata": {},
   "source": [
    "# ADD DISCUSSION OF SPARSE VS DENSE"
   ]
  },
  {
   "cell_type": "markdown",
   "id": "3a29040e",
   "metadata": {},
   "source": [
    "## Task 3: Refactoring into PolynomialSparse128"
   ]
  },
  {
   "cell_type": "markdown",
   "id": "37964bb1",
   "metadata": {},
   "source": [
    "To create a PolynomialSparse128 type that had Int128 coefficients, I first created a Term128 type with Int128 coefficients in the src folder. For this, I changed the struct to accept anything within the Integer type - if not already large enough to default to being an Int128, the inner constructor would convert it to an Int128. See modified struct below:"
   ]
  },
  {
   "cell_type": "code",
   "execution_count": null,
   "id": "1ac512ce",
   "metadata": {},
   "outputs": [],
   "source": [
    "\"\"\"\n",
    "A Term128.\n",
    "\"\"\"\n",
    "struct Term128  #structs are immutable by default\n",
    "    coeff::Int128\n",
    "    degree::Int\n",
    "    function Term128(coeff::Integer, degree::Integer)\n",
    "        coeff = Int128(coeff)\n",
    "        degree < 0 && error(\"Degree must be non-negative\")\n",
    "        coeff != 0 ? new(coeff,degree) : new(coeff,0)\n",
    "    end\n",
    "end"
   ]
  },
  {
   "cell_type": "markdown",
   "id": "28bfef6e",
   "metadata": {},
   "source": [
    "The only other differences between Term and Term128 were that the methods for Term128 accept Integer input, and will convert to Int128 as needed. Additionally, the instances of Term were changed to Term128. See examples below:"
   ]
  },
  {
   "cell_type": "code",
   "execution_count": null,
   "id": "12e7f013",
   "metadata": {},
   "outputs": [],
   "source": [
    "\"\"\"\n",
    "Multiply two Term128s.\n",
    "\"\"\"\n",
    "*(t1::Term128, t2::Term128)::Term128 = Term128(Int128(t1.coeff * t2.coeff), Int128(t1.degree + t2.degree))\n",
    "\n",
    "\"\"\"\n",
    "Compute the symmetric mod of a Term128 with an integer.\n",
    "\"\"\"\n",
    "mod(t::Term128, p::Integer) = Term128(Int128(mod(t.coeff,p)), Int128(t.degree)) # take term and what we're taking as mod. then do the coeffecient mod p, and keep the degree.\n",
    "\n",
    "\"\"\"\n",
    "Compute the derivative of a Term128.\n",
    "\"\"\"\n",
    "derivative(t::Term128) = Term128(Int128(t.coeff*t.degree),Int128(max(t.degree-1,0)))\n",
    "\n",
    "\"\"\"\n",
    "Divide two Term128s. Returns a function of an integer.\n",
    "\"\"\"\n",
    "function ÷(t1::Term128,t2::Term128) #\\div + [TAB]\n",
    "    @assert t1.degree ≥ t2.degree\n",
    "    f(p::Integer)::Term128 = Term128(Int128(mod((t1.coeff * int_inverse_mod(t2.coeff, p)), p)), Int128(t1.degree - t2.degree))\n",
    "end\n"
   ]
  },
  {
   "cell_type": "markdown",
   "id": "7d79087b",
   "metadata": {},
   "source": [
    "I then created a PolynomialSparse128 struct in the file polynomial_sparse_128.jl in the src folder. Similarly, this involved replacing the instances of Term with Term128, and replacing inputs of Int (which default to Int64) with Integer where necessary. See modified PolynomialSparse128 struct and examples of modified code below: "
   ]
  },
  {
   "cell_type": "code",
   "execution_count": null,
   "id": "35e69604",
   "metadata": {},
   "outputs": [],
   "source": [
    "\"\"\"\n",
    "A PolynomialSparse128 type - designed to be for polynomials with larger integer coefficients and many nonzero terms\n",
    "\"\"\"\n",
    "\n",
    "struct PolynomialSparse128\n",
    "\n",
    "    terms::MutableLinkedList{Term128} \n",
    "    dict::Dict{Integer, DataStructures.ListNode{Term128}} \n",
    "\n",
    "    #Inner constructor of the 0 polynomial\n",
    "    PolynomialSparse128() = new(MutableLinkedList{Term128}(zero(Term128)), Dict{Integer, DataStructures.ListNode{Term128}}(0=>DataStructures.ListNode{Term128}(zero(Term128))))\n",
    "\n",
    "    #Inner constructor of polynomial based on arbitrary list of terms\n",
    "    function PolynomialSparse128(terms::Vector{Term128})\n",
    "        #Filter the vector so that there is not more than a single zero term\n",
    "        terms = sort(filter((t)->!iszero(t), terms))\n",
    "        if isempty(terms)\n",
    "            terms = [zero(Term128)]\n",
    "        end\n",
    "        # initialise empty linked list and dictionary\n",
    "        lst = MutableLinkedList{Term128}()\n",
    "        dict = Dict{Int, DataStructures.ListNode{Term128}}()\n",
    "        # create list and dictionary out of the vector of terms\n",
    "        for t in terms\n",
    "            insert_sorted!(lst, dict, t.degree, t)\n",
    "        end\n",
    "\n",
    "        return new(lst, dict)\n",
    "    end\n",
    "end\n",
    "\n",
    "\"\"\"\n",
    "Construct a polynomial with a single term.\n",
    "\"\"\"\n",
    "PolynomialSparse128(t::Term128) = PolynomialSparse128([t])\n",
    "\n",
    "\"\"\"\n",
    "Construct a polynomial of the form x^p-x.\n",
    "\"\"\"\n",
    "cyclotonic_polynomialsparse128(p::Integer) = PolynomialSparse128([Term128(1,p), Term128(-1,1)])\n",
    "\n",
    "\"\"\"\n",
    "The degree of the polynomial.\n",
    "\"\"\"\n",
    "degree(p::PolynomialSparse128)::Integer = leading(p).degree\n",
    "\n",
    "function divide(num::PolynomialSparse128, den::PolynomialSparse128)\n",
    "    function division_function(p::Integer)\n",
    "        f, g = mod(num,p), mod(den,p) # numerator mod p and denominator mod p\n",
    "        degree(f) < degree(num) && return nothing \n",
    "        iszero(g) && throw(DivideError())\n",
    "        q = PolynomialSparse128(Term128(0,0)) #empty polynomial\n",
    "        delete_element!(q.terms, q.dict, 0)\n",
    "        prev_degree = degree(f) # prev degree is degree of numerator mod p\n",
    "        while degree(f) ≥ degree(g) # while num mod p is >= denom mod p\n",
    "            h = PolynomialSparse128( (leading(f) ÷ leading(g))(p) )  # here dividing leading term by leading term, multiplyng by p, putting into polynomial\n",
    "            f = mod((f - h*g), p) # numerator minus h*g\n",
    "            q = mod((q + h), p)  # empty plus h, mod p\n",
    "            prev_degree == degree(f) && break \n",
    "            prev_degree = degree(f)\n",
    "        end\n",
    "        @assert iszero( mod((num  - (q*g + f)),p))\n",
    "        return q, f\n",
    "    end\n",
    "    return division_function\n",
    "end"
   ]
  },
  {
   "cell_type": "markdown",
   "id": "ce521a35",
   "metadata": {},
   "source": [
    "Also see the tests for multiplication, division, derivation, euclid's algorithm for PolynomialSparse128. This also has the sparse-specific tests as described in task 2, and a test overflow_test, which prints PASSED when it does operations that cause PolynomialSparse to overflow, while PolynomialSparse128 does not."
   ]
  },
  {
   "cell_type": "code",
   "execution_count": 22,
   "id": "5a4158ec",
   "metadata": {},
   "outputs": [
    {
     "ename": "LoadError",
     "evalue": "SystemError: opening file \"C:\\\\Users\\\\1908l\\\\OneDrive\\\\MATH2504\\\\Matthew-Lynch-2504-2023-PROJECT1\\\\test\\\\polynomialsparse128_test\": No such file or directory",
     "output_type": "error",
     "traceback": [
      "SystemError: opening file \"C:\\\\Users\\\\1908l\\\\OneDrive\\\\MATH2504\\\\Matthew-Lynch-2504-2023-PROJECT1\\\\test\\\\polynomialsparse128_test\": No such file or directory",
      "",
      "Stacktrace:",
      "  [1] systemerror(p::String, errno::Int32; extrainfo::Nothing)",
      "    @ Base .\\error.jl:176",
      "  [2] #systemerror#82",
      "    @ .\\error.jl:175 [inlined]",
      "  [3] systemerror",
      "    @ .\\error.jl:175 [inlined]",
      "  [4] open(fname::String; lock::Bool, read::Nothing, write::Nothing, create::Nothing, truncate::Nothing, append::Nothing)",
      "    @ Base .\\iostream.jl:293",
      "  [5] open",
      "    @ .\\iostream.jl:275 [inlined]",
      "  [6] open(f::Base.var\"#418#419\"{String}, args::String; kwargs::Base.Pairs{Symbol, Union{}, Tuple{}, NamedTuple{(), Tuple{}}})",
      "    @ Base .\\io.jl:393",
      "  [7] open",
      "    @ .\\io.jl:392 [inlined]",
      "  [8] read",
      "    @ .\\io.jl:473 [inlined]",
      "  [9] _include(mapexpr::Function, mod::Module, _path::String)",
      "    @ Base .\\loading.jl:1955",
      " [10] include(fname::String)",
      "    @ Base.MainInclude .\\client.jl:478",
      " [11] top-level scope",
      "    @ In[22]:1"
     ]
    }
   ],
   "source": [
    "include(\"test\\\\polynomialsparse128_test\")\n",
    "include(\"test\\\\factorization_test.jl\")\n",
    "factor_test_polysparse128()"
   ]
  },
  {
   "cell_type": "markdown",
   "id": "0c5fbfd4",
   "metadata": {},
   "source": [
    "Below, the runtime for multiplication in PolynomialSparse vs PolynomialSparse128 is empirically compared. PolynomialSparse is consistently marginally slower than PolynomialSparse128, and also displays the wrong number due to overflow."
   ]
  },
  {
   "cell_type": "code",
   "execution_count": null,
   "id": "45bca5fb",
   "metadata": {},
   "outputs": [],
   "source": [
    "include(\"test\\\\timing_test.jl\")"
   ]
  },
  {
   "cell_type": "markdown",
   "id": "3f994e35",
   "metadata": {},
   "source": [
    "## Task 4: Creating PolynomialModP\n",
    "- decided to default to the zero polynomial and prime = 2 for the zero case."
   ]
  }
 ],
 "metadata": {
  "kernelspec": {
   "display_name": "Julia 1.9.1",
   "language": "julia",
   "name": "julia-1.9"
  },
  "language_info": {
   "file_extension": ".jl",
   "mimetype": "application/julia",
   "name": "julia",
   "version": "1.9.1"
  }
 },
 "nbformat": 4,
 "nbformat_minor": 5
}
